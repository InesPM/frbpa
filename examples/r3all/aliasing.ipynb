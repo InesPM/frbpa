{
 "cells": [
  {
   "cell_type": "code",
   "execution_count": 1,
   "metadata": {},
   "outputs": [],
   "source": [
    "import numpy as np\n",
    "import pylab as plt\n",
    "%matplotlib inline\n",
    "import tqdm\n",
    "import json\n",
    "from frbpa.utils import get_phase"
   ]
  },
  {
   "cell_type": "code",
   "execution_count": 2,
   "metadata": {},
   "outputs": [],
   "source": [
    "with open('r3all_data.json', 'r') as f:\n",
    "    r3_data = json.load(f)\n",
    "    \n",
    "burst_dict = r3_data['bursts']"
   ]
  },
  {
   "cell_type": "code",
   "execution_count": 3,
   "metadata": {},
   "outputs": [],
   "source": [
    "period = 16.35\n",
    "sidereal_day = 0.99727"
   ]
  },
  {
   "cell_type": "code",
   "execution_count": 4,
   "metadata": {},
   "outputs": [],
   "source": [
    "dates_dict = {}\n",
    "dates_dict['REST'] = np.zeros(0)\n",
    "for k in burst_dict.keys():\n",
    "    if 'CHIME' in k:\n",
    "        dates_dict[k] = np.unique(np.round(burst_dict[k], 1))\n",
    "    else:\n",
    "        dates_dict['REST'] = np.concatenate((np.unique(np.round(burst_dict[k], 1)), dates_dict['REST']))"
   ]
  },
  {
   "cell_type": "markdown",
   "metadata": {},
   "source": [
    "# Calculating standard deviation of non-CHIME burst phases at alias of sidereal day added to the original period\n"
   ]
  },
  {
   "cell_type": "code",
   "execution_count": 5,
   "metadata": {},
   "outputs": [],
   "source": [
    "Ns = np.linspace(0,43,44) # harmonics\n",
    "fns = Ns*(1/sidereal_day) + 1/period"
   ]
  },
  {
   "cell_type": "code",
   "execution_count": 6,
   "metadata": {},
   "outputs": [
    {
     "name": "stderr",
     "output_type": "stream",
     "text": [
      "100%|██████████| 44/44 [00:00<00:00, 11144.96it/s]\n"
     ]
    }
   ],
   "source": [
    "stds = []\n",
    "means = []\n",
    "\n",
    "for f in tqdm.tqdm(fns):\n",
    "    chime_p = get_phase(dates_dict['CHIME'], 1/f)\n",
    "    rest_p = get_phase(dates_dict['REST'], 1/f)\n",
    "    stds.append(np.std(rest_p))\n",
    "    means.append(np.std(chime_p))"
   ]
  },
  {
   "cell_type": "code",
   "execution_count": 7,
   "metadata": {},
   "outputs": [
    {
     "data": {
      "text/plain": [
       "array([ 0.,  2., 11., 18., 16., 31., 42.,  7., 27., 35., 13., 28., 17.,\n",
       "        5., 23., 33., 12.,  8., 39.,  9., 19., 41., 22., 21.,  3.,  4.,\n",
       "       25., 36., 43., 38., 26., 37., 30., 32., 40., 10., 24., 34.,  6.,\n",
       "        1., 14., 20., 29., 15.])"
      ]
     },
     "execution_count": 7,
     "metadata": {},
     "output_type": "execute_result"
    }
   ],
   "source": [
    "Ns[np.argsort(stds)]"
   ]
  },
  {
   "cell_type": "code",
   "execution_count": 8,
   "metadata": {},
   "outputs": [
    {
     "data": {
      "image/png": "[encoded data removed]",
      "text/plain": [
       "<Figure size 432x288 with 1 Axes>"
      ]
     },
     "metadata": {
      "needs_background": "light"
     },
     "output_type": "display_data"
    }
   ],
   "source": [
    "stds = np.array(stds)\n",
    "plt.scatter(Ns, stds)\n",
    "plt.ylabel('standard deviation')\n",
    "plt.xlabel('N')\n",
    "plt.grid()\n",
    "\n",
    "# The lowest standard deviation is at N=0, consistent with PR3 (which used just Effelsberg bursts)"
   ]
  }
 ],
 "metadata": {
  "kernelspec": {
   "display_name": "Python 3",
   "language": "python",
   "name": "python3"
  },
  "language_info": {
   "codemirror_mode": {
    "name": "ipython",
    "version": 3
   },
   "file_extension": ".py",
   "mimetype": "text/x-python",
   "name": "python",
   "nbconvert_exporter": "python",
   "pygments_lexer": "ipython3",
   "version": "3.6.9"
  }
 },
 "nbformat": 4,
 "nbformat_minor": 2
}
