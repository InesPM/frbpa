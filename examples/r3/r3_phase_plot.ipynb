{
 "cells": [
  {
   "cell_type": "code",
   "execution_count": 1,
   "metadata": {},
   "outputs": [],
   "source": [
    "import pandas as pd\n",
    "import numpy as np\n",
    "import pylab as plt\n",
    "%matplotlib inline\n",
    "from astropy.time import Time"
   ]
  },
  {
   "cell_type": "code",
   "execution_count": 2,
   "metadata": {},
   "outputs": [],
   "source": [
    "def figsize(scale):\n",
    "    fig_width_pt = 513.17 #469.755                  # Get this from LaTeX using \\the\\textwidth\n",
    "    inches_per_pt = 1.0/72.27                       # Convert pt to inch\n",
    "    golden_mean = (np.sqrt(5.0)-1.0)/2.0            # Aesthetic ratio (you could change this)\n",
    "    fig_width = fig_width_pt*inches_per_pt*scale    # width in inches\n",
    "    fig_height = fig_width*golden_mean              # height in inches\n",
    "    fig_size = [2*fig_width,2*fig_height]\n",
    "    return fig_size\n",
    "\n",
    "import pylab as plt\n",
    "#plt.rcParams.update(plt.rcParamsDefault)\n",
    "params = {'backend': 'pdf',\n",
    "        'axes.labelsize': 10,\n",
    "        'lines.markersize': 4,\n",
    "        'font.size': 10,\n",
    "        'xtick.major.size':6,\n",
    "        'xtick.minor.size':3,  \n",
    "        'ytick.major.size':6,\n",
    "        'ytick.minor.size':3,\n",
    "        'xtick.major.width':0.5,\n",
    "        'ytick.major.width':0.5,\n",
    "        'xtick.minor.width':0.5,\n",
    "        'ytick.minor.width':0.5,\n",
    "        'lines.markeredgewidth':1,\n",
    "        'axes.linewidth':1.2,\n",
    "        'legend.fontsize': 7,\n",
    "        'xtick.labelsize': 10,\n",
    "        'ytick.labelsize': 10,\n",
    "        'savefig.dpi':200,\n",
    "        'path.simplify':True,\n",
    "        'font.family': 'serif',\n",
    "        'font.serif':'Times',\n",
    "        'text.latex.preamble': [r'\\usepackage{amsmath}',r'\\usepackage{amsbsy}',\n",
    "                                r'\\DeclareMathAlphabet{\\mathcal}{OMS}{cmsy}{m}{n}'],\n",
    "        'figure.figsize': figsize(0.7)}\n",
    "\n",
    "plt.rcParams.update(params)"
   ]
  },
  {
   "cell_type": "code",
   "execution_count": 3,
   "metadata": {},
   "outputs": [],
   "source": [
    "import sys\n",
    "sys.path.append('../../')\n",
    "from frb_periodicity.utils import get_phase"
   ]
  },
  {
   "cell_type": "code",
   "execution_count": 4,
   "metadata": {},
   "outputs": [],
   "source": [
    "import json"
   ]
  },
  {
   "cell_type": "code",
   "execution_count": 5,
   "metadata": {},
   "outputs": [],
   "source": [
    "with open('r3_data.json', 'r') as f:\n",
    "    r3_data = json.load(f)\n",
    "\n",
    "burst_dict = r3_data['bursts']\n",
    "obs_duration_dict = r3_data['obs_duration']\n",
    "obs_startmjds_dict = r3_data['obs_startmjds']"
   ]
  },
  {
   "cell_type": "code",
   "execution_count": 6,
   "metadata": {},
   "outputs": [],
   "source": [
    "bursts = []\n",
    "for k in burst_dict.keys():\n",
    "    bursts = bursts + burst_dict[k]\n",
    "\n",
    "obs_duration = []\n",
    "for k in obs_duration_dict.keys():\n",
    "    obs_duration = obs_duration + obs_duration_dict[k]\n",
    "\n",
    "obs_startmjds = []\n",
    "for k in obs_startmjds_dict.keys():\n",
    "    obs_startmjds = obs_startmjds + obs_startmjds_dict[k]"
   ]
  },
  {
   "cell_type": "code",
   "execution_count": 7,
   "metadata": {},
   "outputs": [],
   "source": [
    "bursts = np.array(bursts)\n",
    "obs_duration = np.array(obs_duration)\n",
    "obs_startmjds = np.array(obs_startmjds)"
   ]
  },
  {
   "cell_type": "code",
   "execution_count": 8,
   "metadata": {},
   "outputs": [],
   "source": [
    "period = 16.35\n",
    "nbins = 40"
   ]
  },
  {
   "cell_type": "code",
   "execution_count": 9,
   "metadata": {},
   "outputs": [],
   "source": [
    "obs_start_phases = get_phase(obs_startmjds, period)\n",
    "hist, bin_edges_obs = np.histogram(obs_start_phases, bins=nbins)"
   ]
  },
  {
   "cell_type": "code",
   "execution_count": 10,
   "metadata": {},
   "outputs": [],
   "source": [
    "obs_start_phases_dict = {}\n",
    "duration_per_phase_dict = {}\n",
    "for k in obs_startmjds_dict.keys():\n",
    "    obs_start_phases_dict[k] = get_phase(np.array(obs_startmjds_dict[k]), \n",
    "                                         period)\n",
    "    durations = np.array(obs_duration_dict[k])\n",
    "    start_phases = obs_start_phases_dict[k]\n",
    "    \n",
    "    d_hist = []\n",
    "    for i in range(len(bin_edges_obs)):\n",
    "        if i>0:\n",
    "            d_hist.append(durations[(start_phases < bin_edges_obs[i]) & \n",
    "                                    (start_phases > bin_edges_obs[i-1])].sum())\n",
    "            \n",
    "    duration_per_phase_dict[k] = np.array(d_hist)/(60*60)"
   ]
  },
  {
   "cell_type": "code",
   "execution_count": 11,
   "metadata": {},
   "outputs": [],
   "source": [
    "obs_duration = np.array(obs_duration)\n",
    "duration_hist = []\n",
    "for i in range(len(bin_edges_obs)):\n",
    "    if i>0:\n",
    "        duration_hist.append(obs_duration[(obs_start_phases < bin_edges_obs[i]) & \n",
    "                                          (obs_start_phases > bin_edges_obs[i-1])].sum())\n",
    "\n",
    "duration_hist = np.array(duration_hist)/(60*60)"
   ]
  },
  {
   "cell_type": "code",
   "execution_count": 12,
   "metadata": {},
   "outputs": [],
   "source": [
    "bin_mids = (bin_edges_obs[:-1] + bin_edges_obs[1:])/2"
   ]
  },
  {
   "cell_type": "code",
   "execution_count": 13,
   "metadata": {},
   "outputs": [],
   "source": [
    "phase_lst = []\n",
    "for k in burst_dict.keys():\n",
    "    phase_lst.append(list(get_phase(np.array(burst_dict[k]), period)))"
   ]
  },
  {
   "cell_type": "code",
   "execution_count": 14,
   "metadata": {},
   "outputs": [],
   "source": [
    "cm = plt.cm.get_cmap('tab20').colors"
   ]
  },
  {
   "cell_type": "code",
   "execution_count": 15,
   "metadata": {},
   "outputs": [
    {
     "data": {
      "text/plain": [
       "dict_keys(['CHIME', 'Effelsberg', 'GBT300', 'GMRT', 'SRT_P', 'VLA'])"
      ]
     },
     "execution_count": 15,
     "metadata": {},
     "output_type": "execute_result"
    }
   ],
   "source": [
    "burst_dict.keys()"
   ]
  },
  {
   "cell_type": "code",
   "execution_count": 16,
   "metadata": {},
   "outputs": [
    {
     "data": {
      "text/plain": [
       "dict_keys(['CHIME', 'DSN_L', 'DSN_S', 'DSN_X', 'Effelsberg', 'GBT300', 'GMRT', 'LOFAR', 'NC', 'SRT_L', 'SRT_P', 'VLA'])"
      ]
     },
     "execution_count": 16,
     "metadata": {},
     "output_type": "execute_result"
    }
   ],
   "source": [
    "obs_duration_dict.keys()"
   ]
  },
  {
   "cell_type": "code",
   "execution_count": 17,
   "metadata": {},
   "outputs": [],
   "source": [
    "burst_hist_colors = [cm[0], cm[2], cm[4], cm[6], cm[8], cm[10]]\n",
    "obs_hist_colors = [cm[0], cm[1], cm[3], cm[5], cm[2], cm[4], cm[6], cm[7], cm[9], cm[11], cm[8], cm[10]]"
   ]
  },
  {
   "cell_type": "code",
   "execution_count": null,
   "metadata": {},
   "outputs": [
    {
     "name": "stderr",
     "output_type": "stream",
     "text": [
      "2020-06-05 12:13:25,144 - _findfont_cached -matplotlib.font_manager - WARNING - findfont: Font family ['serif'] not found. Falling back to DejaVu Sans.\n",
      "2020-06-05 12:13:25,224 - _findfont_cached -matplotlib.font_manager - WARNING - findfont: Font family ['serif'] not found. Falling back to DejaVu Sans.\n"
     ]
    }
   ],
   "source": [
    "fig, ax = plt.subplots(2, 1, sharex=True)\n",
    "ax1 = ax[0]\n",
    "ax1_right = ax1.twinx()\n",
    "ax1.hist(phase_lst, bins=bin_edges_obs, stacked=True, density=False, label=burst_dict.keys(), \n",
    "         edgecolor='black', linewidth=0.5, color=burst_hist_colors)\n",
    "\n",
    "ax1.set_xlabel('Phase')\n",
    "ax1.set_ylabel('No. of Bursts')\n",
    "\n",
    "ax1_right.scatter(bin_mids, duration_hist, label='Obs duration', c='k', alpha=0.5)\n",
    "ax1_right.set_ylabel('Observation Duration (hrs)')\n",
    "\n",
    "ax1.legend()\n",
    "ax1_right.legend(loc=2)\n",
    "\n",
    "ax2 = ax[1]\n",
    "cum_ds = np.zeros(nbins)\n",
    "for i, k in enumerate(duration_per_phase_dict):\n",
    "    d = duration_per_phase_dict[k]\n",
    "    ax2.bar(bin_edges_obs[:-1], d, width=bin_edges_obs[1]-bin_edges_obs[0], align='edge', bottom=cum_ds, \n",
    "            alpha=1, label=k, edgecolor='black', linewidth=0.2, color=obs_hist_colors[i])\n",
    "\n",
    "    cum_ds += d     \n",
    "ax2.set_xlabel('Phase')\n",
    "ax2.set_ylabel('Observation Duration (hrs)')\n",
    "ax2.legend()\n",
    "\n",
    "plt.tight_layout()\n",
    "plt.savefig('R3_rnass_new.png', bbox_inches='tight')\n",
    "plt.savefig('R3_rnass_new.pdf', bbox_inches='tight')"
   ]
  }
 ],
 "metadata": {
  "kernelspec": {
   "display_name": "Python 3",
   "language": "python",
   "name": "python3"
  },
  "language_info": {
   "codemirror_mode": {
    "name": "ipython",
    "version": 3
   },
   "file_extension": ".py",
   "mimetype": "text/x-python",
   "name": "python",
   "nbconvert_exporter": "python",
   "pygments_lexer": "ipython3",
   "version": "3.6.9"
  }
 },
 "nbformat": 4,
 "nbformat_minor": 2
}
